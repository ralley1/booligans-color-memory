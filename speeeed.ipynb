{
  "nbformat": 4,
  "nbformat_minor": 0,
  "metadata": {
    "colab": {
      "name": "speeeed.ipynb",
      "provenance": [],
      "collapsed_sections": []
    },
    "kernelspec": {
      "name": "python3",
      "display_name": "Python 3"
    },
    "language_info": {
      "name": "python"
    }
  },
  "cells": [
    {
      "cell_type": "code",
      "metadata": {
        "id": "i73-kxJkZtKh"
      },
      "source": [
        "#here we go\n",
        "#display rules/object of game\n",
        "#set up game board\n",
        "  #create deck of cards\n",
        "  #deal two stacks of 20 and two stacks of 5 all face down, two individual cards face up/displayed\n",
        "    #variables: computer_cards + player_cards; standby1 + standby2; wrkcard1 + wrkcard2\n",
        "  #assign one stack of 20 to computer, the other to active player\n",
        "#start game\n",
        "  #each player gets the first 5 cards of their 20 face-up\n",
        "    #variables: computer_hand + player_hand\n",
        "  #can play a card from their 5 if it is +1 or -1 of either of the two face-up cards; this card becomes the new face-up card\n",
        "  #when a card is played, player then replenishes hand of 5 by drawing from personal pile\n",
        "  #this occurs until no cards are left - player wins by getting rid of cards first\n",
        "  #exceptions\n",
        "    #if neither player can use their in-hand cards to be +1 or -1 of the two working face-up cards, then two new working cards can be flipped, one from each of the two waiting piles of 5\n",
        "    #once all of these have been used, all of the previous working cards (except the two on top) are shuffled and used to draw from once more\n"
      ],
      "execution_count": null,
      "outputs": []
    }
  ]
}